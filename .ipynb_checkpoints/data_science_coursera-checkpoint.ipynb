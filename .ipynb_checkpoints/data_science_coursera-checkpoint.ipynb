{
 "cells": [
  {
   "cell_type": "code",
   "execution_count": 114,
   "id": "0e9903a4-2f63-482b-b0a3-77f16e526e24",
   "metadata": {},
   "outputs": [],
   "source": [
    "import pandas as pd\n",
    "import numpy as np"
   ]
  },
  {
   "cell_type": "markdown",
   "id": "8a8614a1-f010-4090-870e-5b87a39696ca",
   "metadata": {},
   "source": [
    "# dropna()\n",
    "axis 0 for entire row.\n",
    "\n",
    "axis 1 for entire column.\n",
    "\n",
    "inplace = True ,perameter use to modify the actual data.\n",
    "\n",
    "use np.nan for the adding nan or missing value in data."
   ]
  },
  {
   "cell_type": "code",
   "execution_count": 115,
   "id": "fd90adcc-fd54-49d5-af86-3f6d7d004369",
   "metadata": {},
   "outputs": [
    {
     "name": "stdout",
     "output_type": "stream",
     "text": [
      "Before removing nan\n",
      "   heigh-way speed  fule_leter\n",
      "0           1kmph         1.0\n",
      "1           7kmph         NaN\n",
      "2           8kmph         8.0\n",
      "3           9kmph         9.0\n",
      "4          29kmph         NaN\n",
      "5          45kmog        45.0\n",
      "\n",
      "\n",
      "after removing nan\n",
      "\n"
     ]
    },
    {
     "data": {
      "text/html": [
       "<div>\n",
       "<style scoped>\n",
       "    .dataframe tbody tr th:only-of-type {\n",
       "        vertical-align: middle;\n",
       "    }\n",
       "\n",
       "    .dataframe tbody tr th {\n",
       "        vertical-align: top;\n",
       "    }\n",
       "\n",
       "    .dataframe thead th {\n",
       "        text-align: right;\n",
       "    }\n",
       "</style>\n",
       "<table border=\"1\" class=\"dataframe\">\n",
       "  <thead>\n",
       "    <tr style=\"text-align: right;\">\n",
       "      <th></th>\n",
       "      <th>heigh-way speed</th>\n",
       "      <th>fule_leter</th>\n",
       "    </tr>\n",
       "  </thead>\n",
       "  <tbody>\n",
       "    <tr>\n",
       "      <th>0</th>\n",
       "      <td>1kmph</td>\n",
       "      <td>1.0</td>\n",
       "    </tr>\n",
       "    <tr>\n",
       "      <th>2</th>\n",
       "      <td>8kmph</td>\n",
       "      <td>8.0</td>\n",
       "    </tr>\n",
       "    <tr>\n",
       "      <th>3</th>\n",
       "      <td>9kmph</td>\n",
       "      <td>9.0</td>\n",
       "    </tr>\n",
       "    <tr>\n",
       "      <th>5</th>\n",
       "      <td>45kmog</td>\n",
       "      <td>45.0</td>\n",
       "    </tr>\n",
       "  </tbody>\n",
       "</table>\n",
       "</div>"
      ],
      "text/plain": [
       "  heigh-way speed  fule_leter\n",
       "0           1kmph         1.0\n",
       "2           8kmph         8.0\n",
       "3           9kmph         9.0\n",
       "5          45kmog        45.0"
      ]
     },
     "execution_count": 115,
     "metadata": {},
     "output_type": "execute_result"
    }
   ],
   "source": [
    "a = {\"heigh-way speed\":[\"1kmph\",\"7kmph\",\"8kmph\",\"9kmph\",\"29kmph\",\"45kmog\"] , \"fule_leter\":[1,np.nan,8,9,np.nan,45]}\n",
    "n = pd.DataFrame(a)\n",
    "print(\"Before removing nan\\n\",n)\n",
    "# doesn't modify original\n",
    "print(\"\\n\\nafter removing nan\")\n",
    "\n",
    "# change the actual data(inplace=True )\n",
    "print()\n",
    "n.dropna(subset=[\"fule_leter\"],axis=0,inplace=True)\n",
    "n"
   ]
  },
  {
   "cell_type": "markdown",
   "id": "dda8930c-52de-478f-bd98-66de90d14ea1",
   "metadata": {},
   "source": [
    "# replace()\n"
   ]
  },
  {
   "cell_type": "code",
   "execution_count": 116,
   "id": "dae2f4f2-c0d0-40ec-9c1c-872846e297aa",
   "metadata": {},
   "outputs": [
    {
     "name": "stdout",
     "output_type": "stream",
     "text": [
      "   make  normalized_loses\n",
      "0  audi             164.0\n",
      "1  audi               NaN\n",
      "2  audi             152.0\n",
      "3  audi             162.0\n",
      "4  audi               NaN\n",
      "5  audi             147.0\n",
      "\n",
      "\n",
      "\n"
     ]
    },
    {
     "data": {
      "text/html": [
       "<div>\n",
       "<style scoped>\n",
       "    .dataframe tbody tr th:only-of-type {\n",
       "        vertical-align: middle;\n",
       "    }\n",
       "\n",
       "    .dataframe tbody tr th {\n",
       "        vertical-align: top;\n",
       "    }\n",
       "\n",
       "    .dataframe thead th {\n",
       "        text-align: right;\n",
       "    }\n",
       "</style>\n",
       "<table border=\"1\" class=\"dataframe\">\n",
       "  <thead>\n",
       "    <tr style=\"text-align: right;\">\n",
       "      <th></th>\n",
       "      <th>make</th>\n",
       "      <th>normalized_loses</th>\n",
       "    </tr>\n",
       "  </thead>\n",
       "  <tbody>\n",
       "    <tr>\n",
       "      <th>0</th>\n",
       "      <td>audi</td>\n",
       "      <td>164.00</td>\n",
       "    </tr>\n",
       "    <tr>\n",
       "      <th>1</th>\n",
       "      <td>audi</td>\n",
       "      <td>156.25</td>\n",
       "    </tr>\n",
       "    <tr>\n",
       "      <th>2</th>\n",
       "      <td>audi</td>\n",
       "      <td>152.00</td>\n",
       "    </tr>\n",
       "    <tr>\n",
       "      <th>3</th>\n",
       "      <td>audi</td>\n",
       "      <td>162.00</td>\n",
       "    </tr>\n",
       "    <tr>\n",
       "      <th>4</th>\n",
       "      <td>audi</td>\n",
       "      <td>156.25</td>\n",
       "    </tr>\n",
       "    <tr>\n",
       "      <th>5</th>\n",
       "      <td>audi</td>\n",
       "      <td>147.00</td>\n",
       "    </tr>\n",
       "  </tbody>\n",
       "</table>\n",
       "</div>"
      ],
      "text/plain": [
       "   make  normalized_loses\n",
       "0  audi            164.00\n",
       "1  audi            156.25\n",
       "2  audi            152.00\n",
       "3  audi            162.00\n",
       "4  audi            156.25\n",
       "5  audi            147.00"
      ]
     },
     "execution_count": 116,
     "metadata": {},
     "output_type": "execute_result"
    }
   ],
   "source": [
    "a = {\"make\":[\"audi\",\"audi\",\"audi\",\"audi\",\"audi\",\"audi\"] , \"normalized_loses\":[164,np.nan,152,162,np.nan,147]}\n",
    "df = pd.DataFrame(a)\n",
    "mean1 = df[\"normalized_loses\"].mean()\n",
    "print(df)\n",
    "print(\"\\n\"*2)\n",
    "# df[\"normalized_loses\"].replace(np.nan , mean1, inplace=True)\n",
    "df[\"normalized_loses\"] = df[\"normalized_loses\"].replace(np.nan, mean1)\n",
    "df"
   ]
  },
  {
   "cell_type": "markdown",
   "id": "09a39ea8-a376-4601-86d0-9d3c54f8b7dd",
   "metadata": {},
   "source": [
    "# rename and change values in column"
   ]
  },
  {
   "cell_type": "code",
   "execution_count": 117,
   "id": "229cd2da-e3eb-4cc9-8849-e3c1db896bae",
   "metadata": {},
   "outputs": [
    {
     "name": "stdout",
     "output_type": "stream",
     "text": [
      "   mph\n",
      "0   21\n",
      "1   24\n",
      "2   32\n",
      "3   52\n",
      "4   45\n",
      "5   23 \n",
      "\n",
      "\n"
     ]
    },
    {
     "data": {
      "text/html": [
       "<div>\n",
       "<style scoped>\n",
       "    .dataframe tbody tr th:only-of-type {\n",
       "        vertical-align: middle;\n",
       "    }\n",
       "\n",
       "    .dataframe tbody tr th {\n",
       "        vertical-align: top;\n",
       "    }\n",
       "\n",
       "    .dataframe thead th {\n",
       "        text-align: right;\n",
       "    }\n",
       "</style>\n",
       "<table border=\"1\" class=\"dataframe\">\n",
       "  <thead>\n",
       "    <tr style=\"text-align: right;\">\n",
       "      <th></th>\n",
       "      <th>city-l/100km</th>\n",
       "    </tr>\n",
       "  </thead>\n",
       "  <tbody>\n",
       "    <tr>\n",
       "      <th>0</th>\n",
       "      <td>11.190476</td>\n",
       "    </tr>\n",
       "    <tr>\n",
       "      <th>1</th>\n",
       "      <td>9.791667</td>\n",
       "    </tr>\n",
       "    <tr>\n",
       "      <th>2</th>\n",
       "      <td>7.343750</td>\n",
       "    </tr>\n",
       "    <tr>\n",
       "      <th>3</th>\n",
       "      <td>4.519231</td>\n",
       "    </tr>\n",
       "    <tr>\n",
       "      <th>4</th>\n",
       "      <td>5.222222</td>\n",
       "    </tr>\n",
       "    <tr>\n",
       "      <th>5</th>\n",
       "      <td>10.217391</td>\n",
       "    </tr>\n",
       "  </tbody>\n",
       "</table>\n",
       "</div>"
      ],
      "text/plain": [
       "   city-l/100km\n",
       "0     11.190476\n",
       "1      9.791667\n",
       "2      7.343750\n",
       "3      4.519231\n",
       "4      5.222222\n",
       "5     10.217391"
      ]
     },
     "execution_count": 117,
     "metadata": {},
     "output_type": "execute_result"
    }
   ],
   "source": [
    "a = {\"mph\":[21,24,32,52,45,23]}\n",
    "mph_to_leter = pd.DataFrame(a)\n",
    "print(mph_to_leter,\"\\n\"*2)\n",
    "\n",
    "mph_to_leter[\"mph\"] = 235 / mph_to_leter[\"mph\"]\n",
    "\n",
    "mph_to_leter.rename(columns = {\"mph\":\"city-l/100km\"},inplace=True)\n",
    "mph_to_leter"
   ]
  },
  {
   "cell_type": "markdown",
   "id": "55ad853f-1f8c-48fe-95ee-bc399c51fd6f",
   "metadata": {},
   "source": [
    "# change the datatype of whole column"
   ]
  },
  {
   "cell_type": "code",
   "execution_count": 118,
   "id": "c9b9e7c3-70e0-4e82-875c-b10e186286ef",
   "metadata": {},
   "outputs": [
    {
     "name": "stdout",
     "output_type": "stream",
     "text": [
      "0    11.190476\n",
      "1     9.791667\n",
      "2     7.343750\n",
      "3     4.519231\n",
      "4     5.222222\n",
      "5    10.217391\n",
      "Name: city-l/100km, dtype: float64\n",
      "\n",
      "\n",
      "\n",
      " 0    11\n",
      "1     9\n",
      "2     7\n",
      "3     4\n",
      "4     5\n",
      "5    10\n",
      "Name: city-l/100km, dtype: int64\n"
     ]
    }
   ],
   "source": [
    "print(mph_to_leter[\"city-l/100km\"])\n",
    "mph_to_leter[\"city-l/100km\"] = mph_to_leter[\"city-l/100km\"].astype(\"int64\")\n",
    "print(\"\\n\"*3,mph_to_leter[\"city-l/100km\"])"
   ]
  },
  {
   "cell_type": "code",
   "execution_count": 119,
   "id": "cf66de8e-25e0-490d-ba17-a4ce24fd9ba3",
   "metadata": {},
   "outputs": [
    {
     "name": "stdout",
     "output_type": "stream",
     "text": [
      "4545\n"
     ]
    }
   ],
   "source": [
    "a = 4544.654545\n",
    "print(round(a))"
   ]
  },
  {
   "cell_type": "markdown",
   "id": "24484620-3202-4df4-9b3e-da6ec0cd701d",
   "metadata": {},
   "source": [
    "# Binning in Python"
   ]
  },
  {
   "cell_type": "markdown",
   "id": "5e93772b-64de-400f-a5b9-782d153a7d2a",
   "metadata": {},
   "source": [
    "### divide all column to different price section\n",
    "The NumPy.linspace() function returns an array of evenly spaced values within the specified interval [start, stop].\n",
    "\n",
    "Pandas cut() function is used to separate the array elements into different bins . \n",
    "The cut function is mainly used to perform statistical analysis on scalar data."
   ]
  },
  {
   "cell_type": "code",
   "execution_count": 120,
   "id": "d2f3ff98-3a7b-4df7-a18f-908515a461a0",
   "metadata": {},
   "outputs": [
    {
     "name": "stdout",
     "output_type": "stream",
     "text": [
      "    price\n",
      "24  92192\n",
      "25  97313\n",
      "26  88986\n",
      "27  64929\n",
      "28  50250\n",
      "29  28414\n",
      "30  18963\n",
      "31  23648 \n",
      "\n",
      "\n",
      "\n"
     ]
    },
    {
     "data": {
      "text/html": [
       "<div>\n",
       "<style scoped>\n",
       "    .dataframe tbody tr th:only-of-type {\n",
       "        vertical-align: middle;\n",
       "    }\n",
       "\n",
       "    .dataframe tbody tr th {\n",
       "        vertical-align: top;\n",
       "    }\n",
       "\n",
       "    .dataframe thead th {\n",
       "        text-align: right;\n",
       "    }\n",
       "</style>\n",
       "<table border=\"1\" class=\"dataframe\">\n",
       "  <thead>\n",
       "    <tr style=\"text-align: right;\">\n",
       "      <th></th>\n",
       "      <th>price</th>\n",
       "      <th>price_lable</th>\n",
       "    </tr>\n",
       "  </thead>\n",
       "  <tbody>\n",
       "    <tr>\n",
       "      <th>24</th>\n",
       "      <td>92192</td>\n",
       "      <td>high</td>\n",
       "    </tr>\n",
       "    <tr>\n",
       "      <th>25</th>\n",
       "      <td>97313</td>\n",
       "      <td>high</td>\n",
       "    </tr>\n",
       "    <tr>\n",
       "      <th>26</th>\n",
       "      <td>88986</td>\n",
       "      <td>high</td>\n",
       "    </tr>\n",
       "    <tr>\n",
       "      <th>27</th>\n",
       "      <td>64929</td>\n",
       "      <td>medium</td>\n",
       "    </tr>\n",
       "    <tr>\n",
       "      <th>28</th>\n",
       "      <td>50250</td>\n",
       "      <td>medium</td>\n",
       "    </tr>\n",
       "    <tr>\n",
       "      <th>29</th>\n",
       "      <td>28414</td>\n",
       "      <td>low</td>\n",
       "    </tr>\n",
       "    <tr>\n",
       "      <th>30</th>\n",
       "      <td>18963</td>\n",
       "      <td>low</td>\n",
       "    </tr>\n",
       "    <tr>\n",
       "      <th>31</th>\n",
       "      <td>23648</td>\n",
       "      <td>low</td>\n",
       "    </tr>\n",
       "  </tbody>\n",
       "</table>\n",
       "</div>"
      ],
      "text/plain": [
       "    price price_lable\n",
       "24  92192        high\n",
       "25  97313        high\n",
       "26  88986        high\n",
       "27  64929      medium\n",
       "28  50250      medium\n",
       "29  28414         low\n",
       "30  18963         low\n",
       "31  23648         low"
      ]
     },
     "execution_count": 120,
     "metadata": {},
     "output_type": "execute_result"
    }
   ],
   "source": [
    "import random\n",
    "a = {'price': [50999,9379,67520,41023,\n",
    "               23403,94860,23251,19022,50824,85683,47859,36317,\n",
    "               6264,16918,18682,87742,23919,74709,88666,25172,40174,\n",
    "               39100,1107,97050,92192,97313,88986,64929,50250,28414,18963,23648]}\n",
    "binning = pd.DataFrame(a)\n",
    "\n",
    "print(binning.tail(8),\"\\n\"*3)\n",
    "\n",
    "divide_into_four_part = np.linspace(min(binning[\"price\"]),max(binning[\"price\"]),4)\n",
    "grup_name = ['low', 'medium', 'high']\n",
    "binning['price_lable'] = pd.cut(binning['price'], divide_into_four_part , labels = grup_name,include_lowest = True)\n",
    "binning.tail(8)"
   ]
  },
  {
   "cell_type": "code",
   "execution_count": 121,
   "id": "47f394b8-0e79-41fb-ade8-407c19686f5e",
   "metadata": {},
   "outputs": [
    {
     "data": {
      "text/plain": [
       "'C:\\\\Users\\\\suraj\\\\jupyter notebook'"
      ]
     },
     "execution_count": 121,
     "metadata": {},
     "output_type": "execute_result"
    }
   ],
   "source": [
    "pwd()"
   ]
  }
 ],
 "metadata": {
  "kernelspec": {
   "display_name": "Python 3",
   "language": "python",
   "name": "python3"
  },
  "language_info": {
   "codemirror_mode": {
    "name": "ipython",
    "version": 3
   },
   "file_extension": ".py",
   "mimetype": "text/x-python",
   "name": "python",
   "nbconvert_exporter": "python",
   "pygments_lexer": "ipython3",
   "version": "3.12.3"
  }
 },
 "nbformat": 4,
 "nbformat_minor": 5
}
