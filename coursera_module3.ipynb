{
 "cells": [
  {
   "cell_type": "markdown",
   "id": "6521ac33-4757-4538-97bf-da69dc053c41",
   "metadata": {},
   "source": [
    "#  MODULE 3 - Exploratory Data Analysis\n"
   ]
  },
  {
   "cell_type": "code",
   "execution_count": 1,
   "id": "4b526f91-0f8a-4645-837c-71c10e0ae582",
   "metadata": {},
   "outputs": [],
   "source": [
    "import pandas as pd"
   ]
  },
  {
   "cell_type": "code",
   "execution_count": 2,
   "id": "2906ef47-70b5-423e-8951-0b0242c50bf3",
   "metadata": {},
   "outputs": [],
   "source": [
    "df = pd.read_csv('sample_data.csv')"
   ]
  },
  {
   "cell_type": "code",
   "execution_count": 3,
   "id": "6216a02c-6529-46a2-a376-e0ee3c1724bd",
   "metadata": {},
   "outputs": [
    {
     "data": {
      "text/html": [
       "<div>\n",
       "<style scoped>\n",
       "    .dataframe tbody tr th:only-of-type {\n",
       "        vertical-align: middle;\n",
       "    }\n",
       "\n",
       "    .dataframe tbody tr th {\n",
       "        vertical-align: top;\n",
       "    }\n",
       "\n",
       "    .dataframe thead th {\n",
       "        text-align: right;\n",
       "    }\n",
       "</style>\n",
       "<table border=\"1\" class=\"dataframe\">\n",
       "  <thead>\n",
       "    <tr style=\"text-align: right;\">\n",
       "      <th></th>\n",
       "      <th>ID</th>\n",
       "      <th>Name</th>\n",
       "      <th>Age</th>\n",
       "      <th>City</th>\n",
       "      <th>Occupation</th>\n",
       "      <th>Salary</th>\n",
       "      <th>Join Date</th>\n",
       "      <th>Performance Score</th>\n",
       "    </tr>\n",
       "  </thead>\n",
       "  <tbody>\n",
       "    <tr>\n",
       "      <th>0</th>\n",
       "      <td>1</td>\n",
       "      <td>Bob</td>\n",
       "      <td>65</td>\n",
       "      <td>Houston</td>\n",
       "      <td>Salesperson</td>\n",
       "      <td>140629</td>\n",
       "      <td>2017-11-03</td>\n",
       "      <td>4</td>\n",
       "    </tr>\n",
       "    <tr>\n",
       "      <th>1</th>\n",
       "      <td>2</td>\n",
       "      <td>Mia</td>\n",
       "      <td>30</td>\n",
       "      <td>San Francisco</td>\n",
       "      <td>Mechanic</td>\n",
       "      <td>104679</td>\n",
       "      <td>2019-04-27</td>\n",
       "      <td>5</td>\n",
       "    </tr>\n",
       "    <tr>\n",
       "      <th>2</th>\n",
       "      <td>3</td>\n",
       "      <td>David</td>\n",
       "      <td>45</td>\n",
       "      <td>San Francisco</td>\n",
       "      <td>Artist</td>\n",
       "      <td>145974</td>\n",
       "      <td>2015-09-02</td>\n",
       "      <td>8</td>\n",
       "    </tr>\n",
       "    <tr>\n",
       "      <th>3</th>\n",
       "      <td>4</td>\n",
       "      <td>Bob</td>\n",
       "      <td>29</td>\n",
       "      <td>Philadelphia</td>\n",
       "      <td>Doctor</td>\n",
       "      <td>124007</td>\n",
       "      <td>2015-11-26</td>\n",
       "      <td>2</td>\n",
       "    </tr>\n",
       "    <tr>\n",
       "      <th>4</th>\n",
       "      <td>5</td>\n",
       "      <td>Jack</td>\n",
       "      <td>67</td>\n",
       "      <td>Chicago</td>\n",
       "      <td>Analyst</td>\n",
       "      <td>60720</td>\n",
       "      <td>2016-05-19</td>\n",
       "      <td>7</td>\n",
       "    </tr>\n",
       "  </tbody>\n",
       "</table>\n",
       "</div>"
      ],
      "text/plain": [
       "   ID   Name  Age           City   Occupation  Salary   Join Date  \\\n",
       "0   1    Bob   65        Houston  Salesperson  140629  2017-11-03   \n",
       "1   2    Mia   30  San Francisco     Mechanic  104679  2019-04-27   \n",
       "2   3  David   45  San Francisco       Artist  145974  2015-09-02   \n",
       "3   4    Bob   29   Philadelphia       Doctor  124007  2015-11-26   \n",
       "4   5   Jack   67        Chicago      Analyst   60720  2016-05-19   \n",
       "\n",
       "   Performance Score  \n",
       "0                  4  \n",
       "1                  5  \n",
       "2                  8  \n",
       "3                  2  \n",
       "4                  7  "
      ]
     },
     "execution_count": 3,
     "metadata": {},
     "output_type": "execute_result"
    }
   ],
   "source": [
    "df.head()"
   ]
  },
  {
   "cell_type": "markdown",
   "id": "4377812e-90da-4d15-b799-09a5c11c1225",
   "metadata": {},
   "source": [
    "# DESCRIBE FUNCATION"
   ]
  },
  {
   "cell_type": "code",
   "execution_count": 4,
   "id": "477c5b4f-dee7-44de-ac90-de009d7fc866",
   "metadata": {},
   "outputs": [
    {
     "data": {
      "text/html": [
       "<div>\n",
       "<style scoped>\n",
       "    .dataframe tbody tr th:only-of-type {\n",
       "        vertical-align: middle;\n",
       "    }\n",
       "\n",
       "    .dataframe tbody tr th {\n",
       "        vertical-align: top;\n",
       "    }\n",
       "\n",
       "    .dataframe thead th {\n",
       "        text-align: right;\n",
       "    }\n",
       "</style>\n",
       "<table border=\"1\" class=\"dataframe\">\n",
       "  <thead>\n",
       "    <tr style=\"text-align: right;\">\n",
       "      <th></th>\n",
       "      <th>ID</th>\n",
       "      <th>Age</th>\n",
       "      <th>Salary</th>\n",
       "      <th>Performance Score</th>\n",
       "    </tr>\n",
       "  </thead>\n",
       "  <tbody>\n",
       "    <tr>\n",
       "      <th>count</th>\n",
       "      <td>1000.000000</td>\n",
       "      <td>1000.000000</td>\n",
       "      <td>1000.00000</td>\n",
       "      <td>1000.000000</td>\n",
       "    </tr>\n",
       "    <tr>\n",
       "      <th>mean</th>\n",
       "      <td>500.500000</td>\n",
       "      <td>43.732000</td>\n",
       "      <td>89117.58800</td>\n",
       "      <td>5.514000</td>\n",
       "    </tr>\n",
       "    <tr>\n",
       "      <th>std</th>\n",
       "      <td>288.819436</td>\n",
       "      <td>15.513376</td>\n",
       "      <td>34366.40132</td>\n",
       "      <td>2.908309</td>\n",
       "    </tr>\n",
       "    <tr>\n",
       "      <th>min</th>\n",
       "      <td>1.000000</td>\n",
       "      <td>18.000000</td>\n",
       "      <td>30133.00000</td>\n",
       "      <td>1.000000</td>\n",
       "    </tr>\n",
       "    <tr>\n",
       "      <th>25%</th>\n",
       "      <td>250.750000</td>\n",
       "      <td>30.000000</td>\n",
       "      <td>59175.50000</td>\n",
       "      <td>3.000000</td>\n",
       "    </tr>\n",
       "    <tr>\n",
       "      <th>50%</th>\n",
       "      <td>500.500000</td>\n",
       "      <td>44.000000</td>\n",
       "      <td>89510.50000</td>\n",
       "      <td>6.000000</td>\n",
       "    </tr>\n",
       "    <tr>\n",
       "      <th>75%</th>\n",
       "      <td>750.250000</td>\n",
       "      <td>57.000000</td>\n",
       "      <td>118953.75000</td>\n",
       "      <td>8.000000</td>\n",
       "    </tr>\n",
       "    <tr>\n",
       "      <th>max</th>\n",
       "      <td>1000.000000</td>\n",
       "      <td>70.000000</td>\n",
       "      <td>149897.00000</td>\n",
       "      <td>10.000000</td>\n",
       "    </tr>\n",
       "  </tbody>\n",
       "</table>\n",
       "</div>"
      ],
      "text/plain": [
       "                ID          Age        Salary  Performance Score\n",
       "count  1000.000000  1000.000000    1000.00000        1000.000000\n",
       "mean    500.500000    43.732000   89117.58800           5.514000\n",
       "std     288.819436    15.513376   34366.40132           2.908309\n",
       "min       1.000000    18.000000   30133.00000           1.000000\n",
       "25%     250.750000    30.000000   59175.50000           3.000000\n",
       "50%     500.500000    44.000000   89510.50000           6.000000\n",
       "75%     750.250000    57.000000  118953.75000           8.000000\n",
       "max    1000.000000    70.000000  149897.00000          10.000000"
      ]
     },
     "execution_count": 4,
     "metadata": {},
     "output_type": "execute_result"
    }
   ],
   "source": [
    "df.describe()"
   ]
  },
  {
   "cell_type": "code",
   "execution_count": 5,
   "id": "db9a5de7-3151-48b6-95f9-a67d4cfad489",
   "metadata": {},
   "outputs": [
    {
     "data": {
      "text/html": [
       "<div>\n",
       "<style scoped>\n",
       "    .dataframe tbody tr th:only-of-type {\n",
       "        vertical-align: middle;\n",
       "    }\n",
       "\n",
       "    .dataframe tbody tr th {\n",
       "        vertical-align: top;\n",
       "    }\n",
       "\n",
       "    .dataframe thead th {\n",
       "        text-align: right;\n",
       "    }\n",
       "</style>\n",
       "<table border=\"1\" class=\"dataframe\">\n",
       "  <thead>\n",
       "    <tr style=\"text-align: right;\">\n",
       "      <th></th>\n",
       "      <th>ID</th>\n",
       "      <th>Name</th>\n",
       "      <th>Age</th>\n",
       "      <th>City</th>\n",
       "      <th>Occupation</th>\n",
       "      <th>Salary</th>\n",
       "      <th>Join Date</th>\n",
       "      <th>Performance Score</th>\n",
       "    </tr>\n",
       "  </thead>\n",
       "  <tbody>\n",
       "    <tr>\n",
       "      <th>3</th>\n",
       "      <td>4</td>\n",
       "      <td>Bob</td>\n",
       "      <td>29</td>\n",
       "      <td>Philadelphia</td>\n",
       "      <td>Doctor</td>\n",
       "      <td>124007</td>\n",
       "      <td>2015-11-26</td>\n",
       "      <td>2</td>\n",
       "    </tr>\n",
       "  </tbody>\n",
       "</table>\n",
       "</div>"
      ],
      "text/plain": [
       "   ID Name  Age          City Occupation  Salary   Join Date  \\\n",
       "3   4  Bob   29  Philadelphia     Doctor  124007  2015-11-26   \n",
       "\n",
       "   Performance Score  \n",
       "3                  2  "
      ]
     },
     "execution_count": 5,
     "metadata": {},
     "output_type": "execute_result"
    }
   ],
   "source": [
    "# acess element at id 4\n",
    "df[df['ID'] == 4]\n"
   ]
  },
  {
   "cell_type": "code",
   "execution_count": 6,
   "id": "0a29fb37-df18-4ea0-9ad3-b3ca50a9c025",
   "metadata": {},
   "outputs": [
    {
     "data": {
      "text/plain": [
       "3    Doctor\n",
       "Name: Occupation, dtype: object"
      ]
     },
     "execution_count": 6,
     "metadata": {},
     "output_type": "execute_result"
    }
   ],
   "source": [
    "df[df['ID'] == 4]['Occupation'] \n"
   ]
  },
  {
   "cell_type": "markdown",
   "id": "b39e8711-3541-4f64-8fb4-c68513e1377f",
   "metadata": {},
   "source": [
    "# 1. Using value_counts() for a quick count of unique values\n",
    "### This method can be useful for understanding the distribution of categorical data, such as City or Occupation."
   ]
  },
  {
   "cell_type": "code",
   "execution_count": 7,
   "id": "cf88fd07-4a47-4926-ac13-5ff53c4d9bbe",
   "metadata": {},
   "outputs": [
    {
     "data": {
      "text/plain": [
       "City\n",
       "Chicago          117\n",
       "Houston          109\n",
       "San Francisco    104\n",
       "Dallas           103\n",
       "Philadelphia     102\n",
       "San Diego        101\n",
       "Phoenix          101\n",
       "New York          91\n",
       "San Antonio       88\n",
       "Los Angeles       84\n",
       "Name: count, dtype: int64"
      ]
     },
     "execution_count": 7,
     "metadata": {},
     "output_type": "execute_result"
    }
   ],
   "source": [
    "df['City'].value_counts()"
   ]
  },
  {
   "cell_type": "markdown",
   "id": "1eb08c78-6cc9-430b-b7ec-58d58fe53f2e",
   "metadata": {},
   "source": [
    "# 2. Using groupby() for aggregations and summaries\n",
    "### You can use groupby() to group data based on one or more columns and apply aggregation functions (like sum, mean, count, etc.) on other columns."
   ]
  },
  {
   "cell_type": "code",
   "execution_count": 8,
   "id": "2d4ff2f9-6658-416e-a38f-64c4bbb2367b",
   "metadata": {},
   "outputs": [
    {
     "data": {
      "text/plain": [
       "City           Occupation    \n",
       "Chicago        Analyst           15\n",
       "               Architect          9\n",
       "               Artist            13\n",
       "               Data Scientist    11\n",
       "               Developer          9\n",
       "                                 ..\n",
       "San Francisco  Doctor            14\n",
       "               Engineer           9\n",
       "               Mechanic          19\n",
       "               Salesperson        9\n",
       "               Teacher            5\n",
       "Length: 100, dtype: int64"
      ]
     },
     "execution_count": 8,
     "metadata": {},
     "output_type": "execute_result"
    }
   ],
   "source": [
    "df.groupby(['City' , 'Occupation']).size()"
   ]
  },
  {
   "cell_type": "markdown",
   "id": "5f4c8281-0ca1-413a-a98e-78728c59dd05",
   "metadata": {},
   "source": [
    "# Summry"
   ]
  },
  {
   "cell_type": "raw",
   "id": "e4b3d889-f2a5-4171-ac9c-9485219b456b",
   "metadata": {},
   "source": [
    "Tools like the 'describe' function in pandas can quickly calculate key statistical measures like mean, standard deviation, and quartiles for all numerical variables in your data frame. \n",
    "\n",
    "Use the 'value_counts' function to summarize data into different categories for categorical data. \n",
    "\n",
    "Box plots offer a more visual representation of the data's distribution for numerical data, indicating features like the median, quartiles, and outliers.\n",
    "\n",
    "Scatter plots are excellent for exploring relationships between continuous variables, like engine size and price, in a car data set.\n",
    "\n",
    "Use Pandas' 'groupby' method to explore relationships between categorical variables.\n",
    "\n",
    "Use pivot tables and heat maps for better data visualizations.\n",
    "\n",
    "Correlation between variables is a statistical measure that indicates how the changes in one variable might be associated with changes in another variable.\n",
    "\n",
    "When exploring correlation, use scatter plots combined with a regression line to visualize relationships between variables.\n",
    "\n",
    "Visualization functions like regplot, from the seaborn library, are especially useful for exploring correlation.\n",
    "\n",
    "The Pearson correlation, a key method for assessing the correlation between continuous numerical variables, provides two critical values—the coefficient, which indicates the strength and direction of the correlation, and the P-value, which assesses the certainty of the correlation.\n",
    "\n",
    "A correlation coefficient close to 1 or -1 indicates a strong positive or negative correlation, respectively, while one close to zero suggests no correlation.\n",
    "\n",
    "For P-values, values less than .001 indicate strong certainty in the correlation, while larger values indicate less certainty. Both the coefficient and P-value are important for confirming a strong correlation.\n",
    "\n",
    "Heatmaps provide a comprehensive visual summary of the strength and direction of correlations among multiple variables"
   ]
  },
  {
   "cell_type": "code",
   "execution_count": 83,
   "id": "f2d4d366-50e0-40f2-9055-e9a4857cd00b",
   "metadata": {},
   "outputs": [
    {
     "name": "stdout",
     "output_type": "stream",
     "text": [
      "[ 1  2  3  4  5  6  7  8  9 10 11 12 13 14]\n",
      "[48 26 20 62  8 92 89 16 89 36 35 98 60 46]\n"
     ]
    }
   ],
   "source": [
    "import numpy as np \n",
    "import random\n",
    "lst = []\n",
    "x = np.array([i for i in range (1,14+1) ])\n",
    "y = np.array([random.randint(1,100) for i in range (14) ])\n",
    "print(x)\n",
    "print(y)\n",
    "\n"
   ]
  },
  {
   "cell_type": "code",
   "execution_count": 84,
   "id": "c9a9aa96-b71d-46f7-af21-5501b83d56b0",
   "metadata": {},
   "outputs": [],
   "source": [
    "import seaborn as ans\n",
    "import matplotlib.pyplot as plt\n",
    "%matplotlib inline"
   ]
  },
  {
   "cell_type": "code",
   "execution_count": 109,
   "id": "52f1f9e3-10af-4368-961e-06613aaabfc6",
   "metadata": {},
   "outputs": [
    {
     "data": {
      "text/plain": [
       "[<matplotlib.lines.Line2D at 0x7a3553a287d0>]"
      ]
     },
     "execution_count": 109,
     "metadata": {},
     "output_type": "execute_result"
    },
    {
     "data": {
      "image/png": "[encoded data removed]",
      "text/plain": [
       "<Figure size 640x480 with 1 Axes>"
      ]
     },
     "metadata": {},
     "output_type": "display_data"
    }
   ],
   "source": [
    "plt.plot(x,y)"
   ]
  },
  {
   "cell_type": "code",
   "execution_count": 112,
   "id": "933b0086-194c-49e9-b6a8-6bf5dae04181",
   "metadata": {},
   "outputs": [
    {
     "data": {
      "text/plain": [
       "<matplotlib.collections.PathCollection at 0x7a35539ed4f0>"
      ]
     },
     "execution_count": 112,
     "metadata": {},
     "output_type": "execute_result"
    },
    {
     "data": {
      "image/png": "[encoded data removed]",
      "text/plain": [
       "<Figure size 640x480 with 1 Axes>"
      ]
     },
     "metadata": {},
     "output_type": "display_data"
    }
   ],
   "source": [
    "num_points = 1000\n",
    "my_data = {\n",
    "    'a': np.random.uniform(0, 100, num_points),\n",
    "    'b': np.random.uniform(0, 100, num_points) * 0.5 + 20\n",
    "}\n",
    "dtf = pd.DataFrame(my_data)\n",
    "plt.scatter(dtf['a'],dtf['b'])"
   ]
  },
  {
   "cell_type": "code",
   "execution_count": null,
   "id": "128304c5-2a8c-4439-95a4-0880690f4cbd",
   "metadata": {},
   "outputs": [],
   "source": [
    "import numpy as np\n",
    "\n",
    "num_points = 100\n",
    "my_data = {\n",
    "    'a': np.random.uniform(0, 100, num_points).tolist(),\n",
    "    'b': (np.random.uniform(0, 100, num_points) * 0.5 + 20).tolist()\n",
    "}\n"
   ]
  },
  {
   "cell_type": "code",
   "execution_count": null,
   "id": "d8911986-639c-4800-9dc8-4f17d1cd54f1",
   "metadata": {},
   "outputs": [],
   "source": []
  },
  {
   "cell_type": "code",
   "execution_count": null,
   "id": "9225b3a3-e7a6-4b68-9b22-5a6c2b91c088",
   "metadata": {},
   "outputs": [],
   "source": []
  }
 ],
 "metadata": {
  "kernelspec": {
   "display_name": "Python 3 (ipykernel)",
   "language": "python",
   "name": "python3"
  },
  "language_info": {
   "codemirror_mode": {
    "name": "ipython",
    "version": 3
   },
   "file_extension": ".py",
   "mimetype": "text/x-python",
   "name": "python",
   "nbconvert_exporter": "python",
   "pygments_lexer": "ipython3",
   "version": "3.12.7"
  }
 },
 "nbformat": 4,
 "nbformat_minor": 5
}
